{
 "cells": [
  {
   "metadata": {},
   "cell_type": "markdown",
   "source": [
    "### Dataset 基本概念\n",
    "\n",
    "- 作用：数据加载的标准接口\n",
    "- 核心方法\n",
    "    -  __len__(): 返回数据集大小\n",
    "    - __getitem__(): 获取单个数据样本"
   ],
   "id": "bcb04131feeb4c8e"
  },
  {
   "metadata": {},
   "cell_type": "markdown",
   "source": [
    "### 内置 Dataset 类型 (Prebuilt Dataset)\n",
    "```text\n",
    "│   ├── TensorDataset: 封装张量数据  \n",
    "│   ├── 领域专用:  \n",
    "│   │   ├── VisionDataset (CV)  \n",
    "│   │   ├── AudioDataset  \n",
    "│   │   ├── TextDataset (NLP)  \n",
    "```"
   ],
   "id": "3781575a49e87741"
  },
  {
   "metadata": {},
   "cell_type": "code",
   "outputs": [],
   "execution_count": null,
   "source": [
    "from torchvision import datasets\n",
    "mnist = datasets.MNIST(root='./data', train=True, download=True)"
   ],
   "id": "67207c8b730eccb3"
  },
  {
   "metadata": {},
   "cell_type": "markdown",
   "source": [
    "### 自定义Dataset\n",
    "```text\n",
    "│   ├── 实现步骤:\n",
    "│   │   1. 继承 torch.utils.data.Dataset\n",
    "│   │   2. 实现 __init__, __len__, __getitem__\n",
    "│   ├── 典型场景:\n",
    "│   │   ├── 非标准数据格式\n",
    "│   │   ├── 需要复杂预处理\n",
    "│   │   ├── 动态生成数据\n",
    "```"
   ],
   "id": "6594e982174dc78"
  },
  {
   "metadata": {
    "collapsed": true
   },
   "cell_type": "code",
   "outputs": [],
   "execution_count": null,
   "source": [
    "import torch\n",
    "from torch.utils.data import Dataset\n",
    "\n",
    "class SimpleDataset(Dataset):\n",
    "    def __init__(self):\n",
    "        self.x = torch.arange(0, 100).float().view(-1, 1)  # 100 个样本，每个一个特征\n",
    "        self.y = self.x * 2 + 1                             # 简单的线性关系\n",
    "\n",
    "    def __len__(self):\n",
    "        return len(self.x)\n",
    "\n",
    "    def __getitem__(self, idx):\n",
    "        return self.x[idx], self.y[idx]"
   ],
   "id": "initial_id"
  },
  {
   "metadata": {},
   "cell_type": "markdown",
   "source": [
    "\n",
    "### 数据增强 (Data Augmentation)\n",
    "```text\n",
    "│   ├── 视觉常用:\n",
    "│   │   ├── torchvision.transforms\n",
    "│   │   ├── RandomCrop, RandomHorizontalFlip 等\n",
    "│   ├── 自定义变换:\n",
    "│   │   ├── 通过 __getitem__ 实现\n",
    "│   │   ├── 使用 Lambda 变换\n",
    "```"
   ],
   "id": "92cd6c60dcdca0f2"
  },
  {
   "metadata": {},
   "cell_type": "markdown",
   "source": "#### 数据预处理",
   "id": "dec5a409fae79d02"
  },
  {
   "metadata": {},
   "cell_type": "code",
   "outputs": [],
   "execution_count": null,
   "source": [
    "# 自定义数据预处理\n",
    "class add_mult(object):\n",
    "    \n",
    "    # Constructor\n",
    "    def __init__(self, addx = 1, muly = 2):\n",
    "        self.addx = addx\n",
    "        self.muly = muly\n",
    "    \n",
    "    # Executor\n",
    "    def __call__(self, sample):\n",
    "        x = sample[0]\n",
    "        y = sample[1]\n",
    "        x = x + self.addx\n",
    "        y = y * self.muly\n",
    "        sample = x, y\n",
    "        return sample\n",
    "\n",
    "transform = add_mult(addx=5, muly=10)\n",
    "sample = (3, 2)  # x=3, y=2\n",
    "\n",
    "print(transform(sample))  # 输出：(8, 20)\n"
   ],
   "id": "8c79e0fd877ecd88"
  },
  {
   "metadata": {},
   "cell_type": "code",
   "outputs": [],
   "execution_count": null,
   "source": [
    "class MyDataset(Dataset):\n",
    "    def __init__(self, transform=None):\n",
    "        self.x_data = torch.tensor([1, 2, 3, 4, 5], dtype=torch.float32)\n",
    "        self.y_data = torch.tensor([10, 20, 30, 40, 50], dtype=torch.float32)\n",
    "        self.transform = transform\n",
    "\n",
    "    def __len__(self):\n",
    "        return len(self.x_data)\n",
    "\n",
    "    def __getitem__(self, idx):\n",
    "        sample = (self.x_data[idx], self.y_data[idx])\n",
    "        if self.transform:\n",
    "            sample = self.transform(sample)\n",
    "        return sample\n",
    "## 应用数据处理 到Dataset\n",
    "dataset = MyDataset(transform=add_mult(addx=3, muly=10))"
   ],
   "id": "60f616785d8c42df"
  },
  {
   "metadata": {},
   "cell_type": "markdown",
   "source": "#### Transform Compose",
   "id": "905f93969719f35b"
  },
  {
   "metadata": {
    "ExecuteTime": {
     "end_time": "2025-06-04T04:37:19.266857Z",
     "start_time": "2025-06-04T04:37:19.244458Z"
    }
   },
   "cell_type": "code",
   "source": [
    "from torchvision import datasets, transforms\n",
    "from torch.utils.data import DataLoader\n",
    "\n",
    "class Mult(object):\n",
    "    def __init__(self, mult=1):\n",
    "        self.mult = mult\n",
    "\n",
    "    def __call__(self, img_tensor):\n",
    "        return img_tensor * self.mult\n",
    "\n",
    "transform = transforms.Compose([\n",
    "    transforms.CenterCrop(20), #从正中裁剪出20*20的像素(原图28*28)\n",
    "    transforms.ToTensor(),  # 转为张量\n",
    "    transforms.Normalize((0.5,), (0.5,)), # 均值标准化，\n",
    "    Mult() #自定义的transform数据转换器，数值*1，没有发生任何改变\n",
    "])\n",
    "\n",
    "# 加载 MNIST 数据集\n",
    "mnist = datasets.MNIST(root='./data', train=True, download=True, transform=transform)\n",
    "\n",
    "# 将整个 mnist 数据集打乱顺序，并按每批 32 个样本的方式进行分批加载，用于训练模型。\n",
    "loader = DataLoader(mnist, batch_size=32, shuffle=True)"
   ],
   "id": "3acb0510be17e4d6",
   "outputs": [],
   "execution_count": 17
  },
  {
   "metadata": {
    "ExecuteTime": {
     "end_time": "2025-06-04T04:37:21.438700Z",
     "start_time": "2025-06-04T04:37:21.368102Z"
    }
   },
   "cell_type": "code",
   "source": [
    "import matplotlib.pylab as plt\n",
    "\n",
    "def show_data(data_sample):\n",
    "    # 自动处理尺寸\n",
    "    plt.imshow(data_sample[0].squeeze(0).numpy(), cmap='gray')  \n",
    "    plt.title('y = ' + str(data_sample[1]))\n",
    "show_data(mnist[1])"
   ],
   "id": "ca4605b014e66456",
   "outputs": [
    {
     "data": {
      "text/plain": [
       "<Figure size 640x480 with 1 Axes>"
      ],
      "image/png": "[encoded data removed]"
     },
     "metadata": {},
     "output_type": "display_data"
    }
   ],
   "execution_count": 18
  },
  {
   "metadata": {},
   "cell_type": "markdown",
   "source": [
    "### 迭代数据集  \n",
    "```text\n",
    "│   ├── 直接迭代:\n",
    "│   │   ├── for i in range(len(dataset)):\n",
    "│   │   ├── dataset[i]\n",
    "│   ├── 通过 DataLoader (推荐):\n",
    "│   │   ├── 自动批处理\n",
    "│   │   ├── 支持多进程加载\n",
    "│   │   ├── 随机打乱\n",
    "```"
   ],
   "id": "4e38f8eed697088d"
  },
  {
   "metadata": {},
   "cell_type": "markdown",
   "source": [
    "### 高效实践\n",
    "```text\n",
    "│   ├── 内存映射:\n",
    "│   │   ├── 处理大文件 (如大型数组)\n",
    "│   ├── 懒加载:\n",
    "│   │   ├── 仅在 __getitem__ 时读取数据\n",
    "│   ├── 缓存机制:\n",
    "│   │   ├── 缓存预处理结果\n",
    "```\n"
   ],
   "id": "a03f38bc9eb21bfb"
  }
 ],
 "metadata": {
  "kernelspec": {
   "display_name": "Python 3",
   "language": "python",
   "name": "python3"
  },
  "language_info": {
   "codemirror_mode": {
    "name": "ipython",
    "version": 2
   },
   "file_extension": ".py",
   "mimetype": "text/x-python",
   "name": "python",
   "nbconvert_exporter": "python",
   "pygments_lexer": "ipython2",
   "version": "2.7.6"
  }
 },
 "nbformat": 4,
 "nbformat_minor": 5
}
