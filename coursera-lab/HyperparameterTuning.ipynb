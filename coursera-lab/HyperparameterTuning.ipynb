{
 "cells": [
  {
   "cell_type": "code",
   "execution_count": null,
   "id": "initial_id",
   "metadata": {
    "collapsed": true
   },
   "outputs": [],
   "source": "!pip install keras-tuner"
  },
  {
   "metadata": {
    "ExecuteTime": {
     "end_time": "2025-05-30T07:02:00.868286Z",
     "start_time": "2025-05-30T07:01:56.634848Z"
    }
   },
   "cell_type": "code",
   "source": [
    "import keras_tuner as kt\n",
    "from tensorflow.keras.models import Sequential\n",
    "from tensorflow.keras.layers import Dense, Flatten\n",
    "from tensorflow.keras.datasets import mnist\n",
    "from tensorflow.keras.optimizers import Adam\n",
    "import os"
   ],
   "id": "1068adb1fa8d1178",
   "outputs": [],
   "execution_count": 1
  },
  {
   "metadata": {
    "ExecuteTime": {
     "end_time": "2025-05-30T07:02:01.858606Z",
     "start_time": "2025-05-30T07:02:01.856364Z"
    }
   },
   "cell_type": "code",
   "source": [
    "import sys\n",
    "os.environ['TF_CPP_MIN_LOG_LEVEL'] = '2'  # 0 = all logs, 1 = filter out INFO, 2 = filter out INFO and WARNING, 3 = ERROR only\n",
    "\n",
    "# Increase recursion limit to prevent potential issues\n",
    "sys.setrecursionlimit(100000)"
   ],
   "id": "67bec97faec49307",
   "outputs": [],
   "execution_count": 2
  },
  {
   "metadata": {
    "ExecuteTime": {
     "end_time": "2025-05-30T07:02:03.505614Z",
     "start_time": "2025-05-30T07:02:03.182372Z"
    }
   },
   "cell_type": "code",
   "source": [
    "from tensorflow import keras\n",
    "from sklearn.model_selection import train_test_split\n",
    "\n",
    "# Load the MNIST dataset\n",
    "(x_all, y_all), _ = keras.datasets.mnist.load_data()\n",
    "\n",
    "# Flatten and normalize the images\n",
    "x_all = x_all.reshape((x_all.shape[0], -1)).astype(\"float32\") / 255.0\n",
    "\n",
    "# Split into train+val and test (80/20)\n",
    "x_temp, x_test, y_temp, y_test = train_test_split(x_all, y_all, test_size=0.2, random_state=42)\n",
    "\n",
    "# Split train+val into train and validation (75/25 of 80% = 60/20 overall)\n",
    "x_train, x_val, y_train, y_val = train_test_split(x_temp, y_temp, test_size=0.25, random_state=42)"
   ],
   "id": "9116b201af177fec",
   "outputs": [],
   "execution_count": 3
  },
  {
   "metadata": {
    "ExecuteTime": {
     "end_time": "2025-05-30T07:02:05.681293Z",
     "start_time": "2025-05-30T07:02:05.461184Z"
    }
   },
   "cell_type": "code",
   "source": [
    "(x_train, y_train), (x_val, y_val) = mnist.load_data()\n",
    "x_train, x_val = x_train / 255.0, x_val / 255.0\n",
    "\n",
    "print(f'Training data shape: {x_train.shape}')\n",
    "print(f'Validation data shape: {x_val.shape}')"
   ],
   "id": "58716d703c23e56b",
   "outputs": [
    {
     "name": "stdout",
     "output_type": "stream",
     "text": [
      "Training data shape: (60000, 28, 28)\n",
      "Validation data shape: (10000, 28, 28)\n"
     ]
    }
   ],
   "execution_count": 4
  },
  {
   "metadata": {
    "ExecuteTime": {
     "end_time": "2025-05-30T07:02:08.977458Z",
     "start_time": "2025-05-30T07:02:08.974392Z"
    }
   },
   "cell_type": "code",
   "source": [
    "def build_model(hp):\n",
    "    model = Sequential([\n",
    "        Flatten(input_shape=(28, 28)),\n",
    "        Dense(units=hp.Int('units', min_value=32, max_value=512, step=32), activation='relu'),\n",
    "        Dense(10, activation='softmax')\n",
    "    ])\n",
    "\n",
    "    model.compile(\n",
    "        optimizer=Adam(learning_rate=hp.Float('learning_rate', min_value=1e-4, max_value=1e-2, sampling='LOG')),\n",
    "        loss='sparse_categorical_crossentropy',\n",
    "        metrics=['accuracy']\n",
    "    )\n",
    "\n",
    "    return model"
   ],
   "id": "1e46aefbaef258e4",
   "outputs": [],
   "execution_count": 7
  },
  {
   "metadata": {
    "ExecuteTime": {
     "end_time": "2025-05-30T07:02:11.837988Z",
     "start_time": "2025-05-30T07:02:11.805571Z"
    }
   },
   "cell_type": "code",
   "source": [
    "\n",
    "tuner = kt.RandomSearch(\n",
    "    build_model,\n",
    "    objective='val_accuracy',\n",
    "    max_trials=10,\n",
    "    executions_per_trial=2,\n",
    "    directory='my_dir',\n",
    "    project_name='intro_to_kt'\n",
    ")\n",
    "\n",
    "# Display a summary of the search space \n",
    "tuner.search_space_summary()"
   ],
   "id": "5019f388d441e53d",
   "outputs": [
    {
     "name": "stdout",
     "output_type": "stream",
     "text": [
      "Search space summary\n",
      "Default search space size: 2\n",
      "units (Int)\n",
      "{'default': None, 'conditions': [], 'min_value': 32, 'max_value': 512, 'step': 32, 'sampling': 'linear'}\n",
      "learning_rate (Float)\n",
      "{'default': 0.0001, 'conditions': [], 'min_value': 0.0001, 'max_value': 0.01, 'step': None, 'sampling': 'log'}\n"
     ]
    },
    {
     "name": "stderr",
     "output_type": "stream",
     "text": [
      "/opt/homebrew/anaconda3/envs/colab/lib/python3.11/site-packages/keras/src/layers/reshaping/flatten.py:37: UserWarning: Do not pass an `input_shape`/`input_dim` argument to a layer. When using Sequential models, prefer using an `Input(shape)` object as the first layer in the model instead.\n",
      "  super().__init__(**kwargs)\n"
     ]
    }
   ],
   "execution_count": 8
  },
  {
   "metadata": {},
   "cell_type": "code",
   "source": [
    "tuner.search(x_train, y_train, epochs=5, validation_data=(x_val, y_val)) \n",
    "\n",
    "tuner.results_summary() "
   ],
   "id": "e620a5fd9fa2b80f",
   "execution_count": 9,
   "outputs": [
    {
     "name": "stdout",
     "output_type": "stream",
     "text": [
      "Trial 10 Complete [00h 00m 50s]\n",
      "val_accuracy: 0.9790999889373779\n",
      "\n",
      "Best val_accuracy So Far: 0.9790999889373779\n",
      "Total elapsed time: 00h 05m 20s\n",
      "Results summary\n",
      "Results in my_dir/intro_to_kt\n",
      "Showing 10 best trials\n",
      "Objective(name=\"val_accuracy\", direction=\"max\")\n",
      "\n",
      "Trial 09 summary\n",
      "Hyperparameters:\n",
      "units: 512\n",
      "learning_rate: 0.002051026678741402\n",
      "Score: 0.9790999889373779\n",
      "\n",
      "Trial 03 summary\n",
      "Hyperparameters:\n",
      "units: 384\n",
      "learning_rate: 0.0034070984533815926\n",
      "Score: 0.9772000014781952\n",
      "\n",
      "Trial 02 summary\n",
      "Hyperparameters:\n",
      "units: 160\n",
      "learning_rate: 0.00046710694505239296\n",
      "Score: 0.9760499894618988\n",
      "\n",
      "Trial 00 summary\n",
      "Hyperparameters:\n",
      "units: 160\n",
      "learning_rate: 0.004142803010919861\n",
      "Score: 0.9741999804973602\n",
      "\n",
      "Trial 07 summary\n",
      "Hyperparameters:\n",
      "units: 160\n",
      "learning_rate: 0.004217818813601371\n",
      "Score: 0.9737499952316284\n",
      "\n",
      "Trial 01 summary\n",
      "Hyperparameters:\n",
      "units: 160\n",
      "learning_rate: 0.00029825531558087945\n",
      "Score: 0.9730000197887421\n",
      "\n",
      "Trial 05 summary\n",
      "Hyperparameters:\n",
      "units: 352\n",
      "learning_rate: 0.0001735701471314462\n",
      "Score: 0.9713499844074249\n",
      "\n",
      "Trial 08 summary\n",
      "Hyperparameters:\n",
      "units: 256\n",
      "learning_rate: 0.006289357882072614\n",
      "Score: 0.9706000089645386\n",
      "\n",
      "Trial 06 summary\n",
      "Hyperparameters:\n",
      "units: 64\n",
      "learning_rate: 0.00504837551241049\n",
      "Score: 0.9688000082969666\n",
      "\n",
      "Trial 04 summary\n",
      "Hyperparameters:\n",
      "units: 480\n",
      "learning_rate: 0.00010066208298175492\n",
      "Score: 0.966049998998642\n"
     ]
    }
   ]
  },
  {
   "metadata": {},
   "cell_type": "code",
   "outputs": [],
   "execution_count": null,
   "source": [
    "best_hps = tuner.get_best_hyperparameters(num_trials=1)[0] \n",
    "print(f\"\"\" \n",
    "\n",
    "The optimal number of units in the first dense layer is {best_hps.get('units')}. \n",
    "\n",
    "The optimal learning rate for the optimizer is {best_hps.get('learning_rate')}. \n",
    "\n",
    "\"\"\") \n",
    "\n",
    "# Step 2: Build and Train the Model with Best Hyperparameters \n",
    "model = tuner.hypermodel.build(best_hps) \n",
    "model.fit(x_train, y_train, epochs=10, validation_split=0.2) \n",
    "\n",
    "# Evaluate the model on the test set \n",
    "test_loss, test_acc = model.evaluate(x_val, y_val) \n",
    "print(f'Test accuracy: {test_acc}') "
   ],
   "id": "5c17c020368ddac3"
  }
 ],
 "metadata": {
  "kernelspec": {
   "display_name": "Python 3",
   "language": "python",
   "name": "python3"
  },
  "language_info": {
   "codemirror_mode": {
    "name": "ipython",
    "version": 2
   },
   "file_extension": ".py",
   "mimetype": "text/x-python",
   "name": "python",
   "nbconvert_exporter": "python",
   "pygments_lexer": "ipython2",
   "version": "2.7.6"
  }
 },
 "nbformat": 4,
 "nbformat_minor": 5
}
